{
 "cells": [
  {
   "cell_type": "code",
   "execution_count": 1,
   "metadata": {},
   "outputs": [],
   "source": [
    "import pandas as pd\n",
    "import numpy as np"
   ]
  },
  {
   "cell_type": "code",
   "execution_count": 2,
   "metadata": {},
   "outputs": [],
   "source": [
    "from patsy import dmatrices, dmatrix, demo_data\n"
   ]
  },
  {
   "cell_type": "code",
   "execution_count": 3,
   "metadata": {},
   "outputs": [],
   "source": [
    "data = pd.read_csv('/Users/jdmendoza/Desktop/phone_price_tool/training/dataset/a7bad4b1-20c1-4049-88c0-a9db77bb56e4.csv')\n"
   ]
  },
  {
   "cell_type": "code",
   "execution_count": 4,
   "metadata": {},
   "outputs": [
    {
     "data": {
      "text/plain": [
       "Timestamp('2020-02-08 00:00:00')"
      ]
     },
     "execution_count": 4,
     "metadata": {},
     "output_type": "execute_result"
    }
   ],
   "source": [
    "#most recent data point\n",
    "max(pd.to_datetime(data['date'].dropna()))"
   ]
  },
  {
   "cell_type": "code",
   "execution_count": 5,
   "metadata": {},
   "outputs": [],
   "source": [
    "#need to include date\n",
    "data = data.dropna().drop_duplicates().reset_index(drop=True)[['color', 'condition', 'price', 'storage',\n",
    "       'carrier', 'model']]"
   ]
  },
  {
   "cell_type": "code",
   "execution_count": 6,
   "metadata": {},
   "outputs": [],
   "source": [
    "outcome, predictors = dmatrices(\"price ~ color + storage + condition + carrier + model\", data)"
   ]
  },
  {
   "cell_type": "code",
   "execution_count": 7,
   "metadata": {},
   "outputs": [
    {
     "name": "stdout",
     "output_type": "stream",
     "text": [
      "Intercept: 542.9392612032734\n",
      "color[T.Blue]: 11.220821622664701\n",
      "color[T.Coral]: 6.201770851844913\n",
      "color[T.Gold]: -1.0885292123920722\n",
      "color[T.Gray]: 0.04115870908472364\n",
      "color[T.Green]: 9.445488257620832\n",
      "color[T.Grey]: -0.828303463323477\n",
      "color[T.Jet Black]: -13.14175522304361\n",
      "color[T.Purple]: 3.9524514346995385\n",
      "color[T.Red]: 3.304403637664592\n",
      "color[T.Rose Gold]: -3.883254144688992\n",
      "color[T.Silver]: -0.9328638401424463\n",
      "color[T.White]: -2.638573065130483\n",
      "color[T.Yellow]: 0.006257848604372025\n",
      "condition[T.Good]: 20.270630175096098\n",
      "condition[T.Mint]: 61.19647613313732\n",
      "condition[T.New]: 104.66174492432742\n",
      "carrier[T.sprint]: -9.091868237975733\n",
      "carrier[T.t-mobile]: 3.530529198878113\n",
      "carrier[T.unlocked]: 15.003368954086433\n",
      "carrier[T.verizon]: 4.972374645231913\n",
      "model[T.apple-iphone-6s]: -472.06085444002844\n",
      "model[T.apple-iphone-6s-plus]: -430.01633586141406\n",
      "model[T.apple-iphone-7]: -429.79230464300576\n",
      "model[T.apple-iphone-7-plus]: -363.8044321952293\n",
      "model[T.apple-iphone-8]: -343.195233002924\n",
      "model[T.apple-iphone-8-plus]: -269.7298080473149\n",
      "model[T.apple-iphone-x]: -193.25884627743713\n",
      "model[T.apple-iphone-xr]: -173.73884247865684\n",
      "model[T.apple-iphone-xs]: -115.29568515090932\n",
      "model[T.apple-iphone-xs-max]: -39.56302931572181\n",
      "storage: 0.23402817529895614\n"
     ]
    },
    {
     "name": "stderr",
     "output_type": "stream",
     "text": [
      "/Library/Frameworks/Python.framework/Versions/3.6/lib/python3.6/site-packages/ipykernel_launcher.py:1: FutureWarning: `rcond` parameter will change to the default of machine precision times ``max(M, N)`` where M and N are the input matrix dimensions.\n",
      "To use the future default and silence this warning we advise to pass `rcond=None`, to keep using the old, explicitly pass `rcond=-1`.\n",
      "  \"\"\"Entry point for launching an IPython kernel.\n"
     ]
    }
   ],
   "source": [
    "betas = np.linalg.lstsq(predictors, outcome)[0].ravel()\n",
    "for name, beta in zip(predictors.design_info.column_names, betas):\n",
    "    print(\"%s: %s\" % (name, beta))"
   ]
  },
  {
   "cell_type": "code",
   "execution_count": 8,
   "metadata": {},
   "outputs": [
    {
     "data": {
      "text/plain": [
       "347.69981965074265"
      ]
     },
     "execution_count": 8,
     "metadata": {},
     "output_type": "execute_result"
    }
   ],
   "source": [
    "#Quick test with my phone (white, iphone 8 plus, att, 128)\n",
    "565.3839837311193 + 1.0217353974248045 + 21.09750986103223 - 269.3832878569535 + 128*0.23109280092281104"
   ]
  },
  {
   "cell_type": "code",
   "execution_count": null,
   "metadata": {},
   "outputs": [],
   "source": []
  }
 ],
 "metadata": {
  "kernelspec": {
   "display_name": "Python 3",
   "language": "python",
   "name": "python3"
  },
  "language_info": {
   "codemirror_mode": {
    "name": "ipython",
    "version": 3
   },
   "file_extension": ".py",
   "mimetype": "text/x-python",
   "name": "python",
   "nbconvert_exporter": "python",
   "pygments_lexer": "ipython3",
   "version": "3.6.5"
  },
  "toc": {
   "base_numbering": 1,
   "nav_menu": {},
   "number_sections": true,
   "sideBar": true,
   "skip_h1_title": false,
   "title_cell": "Table of Contents",
   "title_sidebar": "Contents",
   "toc_cell": false,
   "toc_position": {},
   "toc_section_display": true,
   "toc_window_display": false
  }
 },
 "nbformat": 4,
 "nbformat_minor": 2
}
